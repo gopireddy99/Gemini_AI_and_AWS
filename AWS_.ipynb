{
  "nbformat": 4,
  "nbformat_minor": 0,
  "metadata": {
    "colab": {
      "provenance": [],
      "authorship_tag": "ABX9TyMtP4Zp01jPhm2w4ByBzCgG",
      "include_colab_link": true
    },
    "kernelspec": {
      "name": "python3",
      "display_name": "Python 3"
    },
    "language_info": {
      "name": "python"
    }
  },
  "cells": [
    {
      "cell_type": "markdown",
      "metadata": {
        "id": "view-in-github",
        "colab_type": "text"
      },
      "source": [
        "<a href=\"https://colab.research.google.com/github/gopireddy99/Gemini_AI_and_AWS/blob/main/AWS_.ipynb\" target=\"_parent\"><img src=\"https://colab.research.google.com/assets/colab-badge.svg\" alt=\"Open In Colab\"/></a>"
      ]
    },
    {
      "cell_type": "markdown",
      "source": [
        "# Cloud Computing"
      ],
      "metadata": {
        "id": "cpBEPt2K9sWZ"
      }
    },
    {
      "cell_type": "code",
      "source": [],
      "metadata": {
        "id": "-7vAJjQtYgzv"
      },
      "execution_count": null,
      "outputs": []
    },
    {
      "cell_type": "markdown",
      "source": [
        "**AWS**"
      ],
      "metadata": {
        "id": "7xXrjSlv_CtW"
      }
    },
    {
      "cell_type": "markdown",
      "source": [
        "Amazon Web Services (AWS) is a comprehensive and widely adopted cloud computing platform offered by Amazon.com. In essence, it provides on-demand cloud computing services to individuals, companies, and governments. Here's a breakdown of what that entails:\n",
        "\n",
        "Cloud Computing Services:\n",
        "AWS offers a vast array of services, including:\n",
        "Compute power (like virtual servers).\n",
        "Storage (for data).\n",
        "Databases.\n",
        "Networking.\n",
        "Analytics.\n",
        "Machine learning.\n",
        "And many more.\n",
        "On-Demand and Pay-As-You-Go:\n",
        "Users can access these services as needed, and they typically pay only for the resources they consume. This eliminates the need for large upfront investments in physical infrastructure.\n",
        "Global Infrastructure:\n",
        "AWS has a global network of data centers, allowing users to deploy applications and services closer to their customers, improving performance and reducing latency.\n",
        "\n",
        "**Key Features:**\n",
        "Scalability: AWS allows users to easily scale their resources up or down based on demand.\n",
        "Security: AWS places a strong emphasis on security, providing a wide range of security tools and services.\n",
        "Reliability: AWS's infrastructure is designed for high availability and reliability."
      ],
      "metadata": {
        "id": "frhQ4U7L_Kr7"
      }
    },
    {
      "cell_type": "code",
      "source": [],
      "metadata": {
        "id": "ZfnrQMshYimC"
      },
      "execution_count": null,
      "outputs": []
    },
    {
      "cell_type": "code",
      "source": [
        "!pip install boto3"
      ],
      "metadata": {
        "colab": {
          "base_uri": "https://localhost:8080/"
        },
        "id": "RQoPc8kMYjQa",
        "outputId": "6426903e-bff5-4769-8841-664337ec1a29"
      },
      "execution_count": null,
      "outputs": [
        {
          "output_type": "stream",
          "name": "stdout",
          "text": [
            "Collecting boto3\n",
            "  Downloading boto3-1.37.16-py3-none-any.whl.metadata (6.7 kB)\n",
            "Collecting botocore<1.38.0,>=1.37.16 (from boto3)\n",
            "  Downloading botocore-1.37.16-py3-none-any.whl.metadata (5.7 kB)\n",
            "Collecting jmespath<2.0.0,>=0.7.1 (from boto3)\n",
            "  Downloading jmespath-1.0.1-py3-none-any.whl.metadata (7.6 kB)\n",
            "Collecting s3transfer<0.12.0,>=0.11.0 (from boto3)\n",
            "  Downloading s3transfer-0.11.4-py3-none-any.whl.metadata (1.7 kB)\n",
            "Requirement already satisfied: python-dateutil<3.0.0,>=2.1 in /usr/local/lib/python3.11/dist-packages (from botocore<1.38.0,>=1.37.16->boto3) (2.8.2)\n",
            "Requirement already satisfied: urllib3!=2.2.0,<3,>=1.25.4 in /usr/local/lib/python3.11/dist-packages (from botocore<1.38.0,>=1.37.16->boto3) (2.3.0)\n",
            "Requirement already satisfied: six>=1.5 in /usr/local/lib/python3.11/dist-packages (from python-dateutil<3.0.0,>=2.1->botocore<1.38.0,>=1.37.16->boto3) (1.17.0)\n",
            "Downloading boto3-1.37.16-py3-none-any.whl (139 kB)\n",
            "\u001b[2K   \u001b[90m━━━━━━━━━━━━━━━━━━━━━━━━━━━━━━━━━━━━━━━━\u001b[0m \u001b[32m139.6/139.6 kB\u001b[0m \u001b[31m3.5 MB/s\u001b[0m eta \u001b[36m0:00:00\u001b[0m\n",
            "\u001b[?25hDownloading botocore-1.37.16-py3-none-any.whl (13.4 MB)\n",
            "\u001b[2K   \u001b[90m━━━━━━━━━━━━━━━━━━━━━━━━━━━━━━━━━━━━━━━━\u001b[0m \u001b[32m13.4/13.4 MB\u001b[0m \u001b[31m44.4 MB/s\u001b[0m eta \u001b[36m0:00:00\u001b[0m\n",
            "\u001b[?25hDownloading jmespath-1.0.1-py3-none-any.whl (20 kB)\n",
            "Downloading s3transfer-0.11.4-py3-none-any.whl (84 kB)\n",
            "\u001b[2K   \u001b[90m━━━━━━━━━━━━━━━━━━━━━━━━━━━━━━━━━━━━━━━━\u001b[0m \u001b[32m84.4/84.4 kB\u001b[0m \u001b[31m5.6 MB/s\u001b[0m eta \u001b[36m0:00:00\u001b[0m\n",
            "\u001b[?25hInstalling collected packages: jmespath, botocore, s3transfer, boto3\n",
            "Successfully installed boto3-1.37.16 botocore-1.37.16 jmespath-1.0.1 s3transfer-0.11.4\n"
          ]
        }
      ]
    },
    {
      "cell_type": "code",
      "source": [
        "import boto3\n",
        "s3 = boto3.client(\"s3\")"
      ],
      "metadata": {
        "id": "bexGTTxTYm-8"
      },
      "execution_count": null,
      "outputs": []
    },
    {
      "cell_type": "code",
      "source": [
        "bucket_name = \"mynlpmru3\"\n",
        "s3.create_bucket(\n",
        "    Bucket=bucket_name,\n",
        "    CreateBucketConfiguration={\"LocationConstraint\": \"eu-north-1\"}\n",
        ")\n",
        "print(f\"Bucket '{bucket_name}' created successfully!\")"
      ],
      "metadata": {
        "id": "GdxKSw5aQyuc"
      },
      "execution_count": null,
      "outputs": []
    },
    {
      "cell_type": "markdown",
      "source": [
        "**List Buckets**"
      ],
      "metadata": {
        "id": "io42d6zLL4p5"
      }
    },
    {
      "cell_type": "code",
      "source": [
        "response = s3.list_buckets()\n",
        "print(\"Existing Buckets:\")\n",
        "for bucket in response \"Buckets\":\n",
        "  print(f\"- {bucket['Name']}\")"
      ],
      "metadata": {
        "id": "5ITw5c08bwc5"
      },
      "execution_count": null,
      "outputs": []
    },
    {
      "cell_type": "code",
      "source": [
        "response = s3.list_objects_v2(Bucket=\"mynlpmru\")\n",
        "print(\"Files in bucket:\")\n",
        "if \"Contents\" in response:\n",
        "    for obj in response[\"Contents\"]:\n",
        "        print(f\"- {obj['Key']} (Size: {obj['Size']} bytes)\")\n",
        "else:\n",
        "    print(\"Bucket is empty.\")"
      ],
      "metadata": {
        "id": "qBKIqLlaOLyb"
      },
      "execution_count": null,
      "outputs": []
    },
    {
      "cell_type": "markdown",
      "source": [
        "**Delete a File from s3**"
      ],
      "metadata": {
        "id": "kwuBPNzmPmTi"
      }
    },
    {
      "cell_type": "code",
      "source": [
        "s3.delete_object(Bucket=\"mynlpmru\", Key=\"data/testfile1.txt\")\n",
        "print(\"File deleted successfully!\")"
      ],
      "metadata": {
        "id": "5w35Nw0DOfHR"
      },
      "execution_count": null,
      "outputs": []
    },
    {
      "cell_type": "code",
      "source": [
        "s3.put_bucket_versioning(\n",
        "    Bucket=\"mynlpmru\",\n",
        "    VersioningConfiguration={\"Status\": \"Enabled\"}\n",
        ")\n",
        "print(\"Bucket versioning enabled.\")"
      ],
      "metadata": {
        "id": "rZ0AnUUuPvAO"
      },
      "execution_count": null,
      "outputs": []
    },
    {
      "cell_type": "markdown",
      "source": [
        "**Copy an Object Within S3**"
      ],
      "metadata": {
        "id": "qIr0CWyGQnKY"
      }
    },
    {
      "cell_type": "code",
      "source": [
        "copy_source = {\"Bucket\": \"mynlpmru\", \"Key\": \"data/testfile.txt\"}\n",
        "s3.copy_object(CopySource=copy_source, Bucket=\"mynlpmru\", Key=\"data/copied_testfile2.txt\")\n",
        "print(\"File copied successfully.\")"
      ],
      "metadata": {
        "id": "5IqGA18NQLbL"
      },
      "execution_count": null,
      "outputs": []
    },
    {
      "cell_type": "code",
      "source": [],
      "metadata": {
        "id": "1bz6pHxUQuf9"
      },
      "execution_count": null,
      "outputs": []
    }
  ]
}